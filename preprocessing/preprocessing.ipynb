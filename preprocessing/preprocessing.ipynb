{
 "cells": [
  {
   "cell_type": "code",
   "execution_count": 7,
   "metadata": {},
   "outputs": [],
   "source": [
    "import penman\n",
    "from retrofit import parse_amr_document\n"
   ]
  },
  {
   "cell_type": "code",
   "execution_count": 8,
   "metadata": {},
   "outputs": [],
   "source": [
    "\n",
    "\n"
   ]
  },
  {
   "cell_type": "code",
   "execution_count": null,
   "metadata": {},
   "outputs": [],
   "source": []
  },
  {
   "cell_type": "code",
   "execution_count": 28,
   "metadata": {},
   "outputs": [],
   "source": [
    "in_file_name = \"../Data/english-umr/english_umr-0001.txt\"\n",
    "f = open(in_file_name)"
   ]
  },
  {
   "cell_type": "code",
   "execution_count": 26,
   "metadata": {},
   "outputs": [
    {
     "data": {
      "text/plain": [
       "['README.md',\n",
       " 'english_umr-0005.txt',\n",
       " 'english_umr-0004.txt',\n",
       " 'english_umr-0003.txt',\n",
       " 'english_umr-0002.txt',\n",
       " 'english_umr-0001.txt']"
      ]
     },
     "execution_count": 26,
     "metadata": {},
     "output_type": "execute_result"
    }
   ],
   "source": [
    "import os\n",
    "os.listdir('../Data/english-umr')"
   ]
  },
  {
   "cell_type": "code",
   "execution_count": 27,
   "metadata": {},
   "outputs": [
    {
     "name": "stdout",
     "output_type": "stream",
     "text": [
      "Unable to process graph.\n",
      "Unable to process graph.\n",
      "Unable to process graph.\n",
      "Unable to process graph.\n",
      "Unable to process graph.\n",
      "Unable to process graph.\n",
      "Unable to process graph.\n",
      "Unable to process graph.\n",
      "Unable to process graph.\n",
      "Unable to process graph.\n",
      "Unable to process graph.\n",
      "Unable to process graph.\n",
      "Unable to process graph.\n",
      "Unable to process graph.\n",
      "Unable to process graph.\n",
      "Unable to process graph.\n",
      "Unable to process graph.\n",
      "Unable to process graph.\n",
      "Unable to process graph.\n",
      "Unable to process graph.\n",
      "Unable to process graph.\n",
      "Unable to process graph.\n",
      "Unable to process graph.\n",
      "Unable to process graph.\n",
      "Unable to process graph.\n",
      "Unable to process graph.\n",
      "Unable to process graph.\n",
      "Unable to process graph.\n",
      "Unable to process graph.\n",
      "Unable to process graph.\n",
      "Unable to process graph.\n",
      "Unable to process graph.\n",
      "Unable to process graph.\n",
      "Unable to process graph.\n",
      "Unable to process graph.\n",
      "Unable to process graph.\n",
      "Unable to process graph.\n",
      "Unable to process graph.\n",
      "Unable to process graph.\n",
      "Unable to process graph.\n",
      "Unable to process graph.\n",
      "Unable to process graph.\n",
      "Unable to process graph.\n",
      "Unable to process graph.\n",
      "Unable to process graph.\n",
      "Unable to process graph.\n",
      "Unable to process graph.\n",
      "Unable to process graph.\n",
      "Unable to process graph.\n",
      "Unable to process graph.\n",
      "Unable to process graph.\n",
      "Unable to process graph.\n",
      "Unable to process graph.\n",
      "Unable to process graph.\n",
      "Unable to process graph.\n",
      "Unable to process graph.\n"
     ]
    }
   ],
   "source": [
    "graph = parse_amr_document(in_file_name)"
   ]
  }
 ],
 "metadata": {
  "kernelspec": {
   "display_name": "UMR",
   "language": "python",
   "name": "python3"
  },
  "language_info": {
   "codemirror_mode": {
    "name": "ipython",
    "version": 3
   },
   "file_extension": ".py",
   "mimetype": "text/x-python",
   "name": "python",
   "nbconvert_exporter": "python",
   "pygments_lexer": "ipython3",
   "version": "3.10.13"
  }
 },
 "nbformat": 4,
 "nbformat_minor": 2
}
